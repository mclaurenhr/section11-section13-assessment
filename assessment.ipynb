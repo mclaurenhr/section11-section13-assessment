{
 "cells": [
  {
   "cell_type": "markdown",
   "metadata": {},
   "source": [
    "# Objectives\n",
    "YW\n",
    "* scrape a website for relevant information, store that information to a dataframe and save that dataframe as a csv file\n",
    "* load in a dataframe and do the following\n",
    "    * calculate the zscores of a given column\n",
    "    * calculate the zscores of a point from a given column in the dataframe\n",
    "    * calculate and plot the pmf and cdf of another column"
   ]
  },
  {
   "cell_type": "markdown",
   "metadata": {},
   "source": [
    "# Part 1 - Webscraping\n",
    "* use the following url scrape the first page of results\n",
    "* for each item get the name of the item\n",
    "* store the names to a dataframe and save that dataframe to csv then display\n",
    "    * store the dataframe in the `data` folder in the repo\n",
    "    * name the file `part1.csv` and make sure that when you write it you set `index=False`\n",
    "* the head of the dataframe\n",
    "\n",
    "* it should match the following\n",
    "<img src=\"solutions/images/part1.png\"/>"
   ]
  },
  {
   "cell_type": "code",
   "execution_count": 1,
   "metadata": {},
   "outputs": [],
   "source": [
    "# scrape the data\n",
    "import json\n",
    "import requests\n",
    "\n",
    "import pandas as pd\n",
    "from bs4 import BeautifulSoup\n",
    "from pymongo import MongoClient"
   ]
  },
  {
   "cell_type": "code",
   "execution_count": 2,
   "metadata": {},
   "outputs": [],
   "source": [
    "url = \"https://www.petsmart.com/dog/treats/dental-treats/#page_name=flyout&category=dog&cta=dentaltreat\""
   ]
  },
  {
   "cell_type": "code",
   "execution_count": 3,
   "metadata": {},
   "outputs": [
    {
     "data": {
      "text/plain": [
       "200"
      ]
     },
     "execution_count": 3,
     "metadata": {},
     "output_type": "execute_result"
    }
   ],
   "source": [
    "r=requests.get(url=url)\n",
    "r.status_code"
   ]
  },
  {
   "cell_type": "code",
   "execution_count": 4,
   "metadata": {},
   "outputs": [
    {
     "data": {
      "text/plain": [
       "b'\\n<!doctype html>\\n<!--[if lt IE 7]> <html class=\"ie6 oldie\" lang=\"en\"> <![endif]-->\\n<!--[if IE 7]> <html class=\"ie7 oldie\" lang=\"en\"> <![endif]-->\\n<!--[if IE 8]> <html class=\"ie8 oldie\" lang=\"en\"> <![endif]-->\\n<!--[if gt IE 8]><!--> <html lang=\"en\"> <!--<![endif]-->\\n<head>\\n<script>\\ndataLayer =\\n[{\\n\\'language\\': \\'en\\',\\n\\'loginState\\': false,\\n\\'pageName\\':\\'ps:\\'productgridutils.getfirstparentname(pdict.productsearchresult.category):productgridutils.getsecondparentname(pdict.productsearchresult.category):dental-treats\\',\\n\\'section\\': \\'productgridutils.getsecondparentname(pdict.productsearchresult.category)\\',\\n\\'subSection\\': \\'productgridutils.getfirstparentname(pdict.productsearchresult.category)\\',\\n\\n\\n\\n}];\\n</script>\\n\\n<script>(function(w,d,s,l,i){w[l]=w[l]||[];w[l].push({\\'gtm.start\\':\\nnew Date().getTime(),event:\\'gtm.js\\'});var f=d.getElementsByTagName(s)[0],\\nj=d.createElement(s),dl=l!=\\'dataLayer\\'?\\'&l=\\'+l:\\'\\';j.async=true;j.src=\\n\\'//www.googletagmanager.com/gtm.js?id=\\'+i+dl;f.parentNode.insertBefore(j,f);\\n})(window,document,\\'script\\',\\'dataLayer\\',\\'GTM-NGQNND\\');</script>\\n\\n\\n<style>\\n.cookie-policy-button {display: none !important;}\\n</style>\\n<meta charset=UTF-8>\\n<meta property=\"og:image\" content=\"https://s7d2.scene7.com/is/image/PetSmart/petsmart-logo\" />\\n<meta http-equiv=\"x-ua-compatible\" content=\"ie=edge\">\\n<meta name=\"viewport\" content=\"width=device-width, initial-scale=1\">\\n<meta name=\"format-detection\" content=\"telephone=no\">\\n<meta http-equiv=\"Content-Security-Policy\" content=\"upgrade-insecure-requests\">\\n<title>\\n\\nDog Dental Treats: Healthy Dog Treats | PetSmart\\n\\n</title>\\n<link href=\"https://www.petsmart.com/on/demandware.static/Sites-PetSmart-Site/-/default/dw2d8cf1c8/images/favicon-petsmart.ico\" rel=\"shortcut icon\" />\\n<meta name=\"description\" content=\"Dog dental treats are healthy for teeth and gums. Along with regular brushing, dental treats remove plaque to keep your dog\\'s mouth clean and fresh!\" />\\n<meta name=\"keywords\" content=\"dog dental treats, dental treats, healthy dog treats\" />\\n<script type=\"text/javascript\">//<!--\\n/* <![CDATA[ (head-active_data.js) */\\nvar dw = (window.dw || {});\\ndw.ac = {\\n    _analytics: null,\\n    _events: [],\\n    _category: \"\",\\n    _searchData: \"\",\\n    _anact: \"\",\\n    _anact_nohit_tag: \"\",\\n    _capture: function(configs) {\\n        if (Object.prototype.toString.call(configs) === \"[object Array]\") {\\n            configs.forEach(captureObject);\\n            return;\\n        }\\n        dw.ac._events.push(configs);\\n    },\\n\\tcapture: function() { \\n\\t\\tdw.ac._capture(arguments);\\n\\t\\t// send to CQ as well:\\n\\t\\tif (window.CQuotient) {\\n\\t\\t\\twindow.CQuotient.trackEventsFromAC(arguments);\\n\\t\\t}\\n\\t},\\n    EV_PRD_SEARCHHIT: \"searchhit\",\\n    EV_PRD_DETAIL: \"detail\",\\n    EV_PRD_RECOMMENDATION: \"recommendation\",\\n    EV_PRD_SETPRODUCT: \"setproduct\",\\n    applyContext: function(context) {\\n        if (typeof context === \"object\" && context.hasOwnProperty(\"category\")) {\\n        \\tdw.ac._category = context.category;\\n        }\\n        if (typeof context === \"object\" && context.hasOwnPro'"
      ]
     },
     "execution_count": 4,
     "metadata": {},
     "output_type": "execute_result"
    }
   ],
   "source": [
    "r.content[:3000]"
   ]
  },
  {
   "cell_type": "code",
   "execution_count": 5,
   "metadata": {},
   "outputs": [],
   "source": [
    "webpage_soup = BeautifulSoup(r.content,'html.parser')"
   ]
  },
  {
   "cell_type": "code",
   "execution_count": 6,
   "metadata": {},
   "outputs": [],
   "source": [
    "results_list = webpage_soup.find_all('div', attrs={'class': 'search-result-content'})\n",
    "results = results_list[0]"
   ]
  },
  {
   "cell_type": "code",
   "execution_count": 7,
   "metadata": {},
   "outputs": [
    {
     "data": {
      "text/plain": [
       "36"
      ]
     },
     "execution_count": 7,
     "metadata": {},
     "output_type": "execute_result"
    }
   ],
   "source": [
    "result_boxes = results.find_all('li', attrs={'class': 'grid-tile col-md-4 col-sm-12'})\n",
    "len(result_boxes)"
   ]
  },
  {
   "cell_type": "code",
   "execution_count": 8,
   "metadata": {
    "scrolled": false
   },
   "outputs": [
    {
     "data": {
      "text/plain": [
       "'Greenies Regular Dental Dog Treats'"
      ]
     },
     "execution_count": 8,
     "metadata": {},
     "output_type": "execute_result"
    }
   ],
   "source": [
    "first_box = result_boxes[0]\n",
    "name = first_box.find('h3').text\n",
    "name"
   ]
  },
  {
   "cell_type": "code",
   "execution_count": 9,
   "metadata": {
    "scrolled": true
   },
   "outputs": [
    {
     "data": {
      "text/plain": [
       "['Greenies Regular Dental Dog Treats',\n",
       " 'Greenies Petite Dental Dog Treats',\n",
       " 'Greenies Large Dental Dog Treats',\n",
       " 'Pedigree Dentastix Large Dog Treats',\n",
       " 'Greenies 6 Month+ Puppy Petite Dental Dog Treats',\n",
       " 'Greenies 6 Month+ Puppy Dental Dog Treats',\n",
       " 'Greenies 6 Month+ Puppy Teenie Dental Dog Treats',\n",
       " 'Greenies Teenie Dental Dog Treats',\n",
       " 'Authority® Dental & DHA Stick Puppy Treats Parsley Mint - Gluten Free, Grain Free',\n",
       " 'Pedigree Dentastix Large Dog Sticks',\n",
       " 'Milk-Bone Brushing Chews Large Dental Dog Treats',\n",
       " 'Pedigree Dentastix Triple Action Dental Dog Treats - Variety Pack',\n",
       " 'Pedigree Dentastix Small/Medium Dog Sticks',\n",
       " 'WHIMZEES Variety Value Box Dental Dog Treat - Natural, Grain Free',\n",
       " 'Pedigree Dentastix Mini Dog Sticks',\n",
       " 'Virbac® C.E.T.® VeggieDent® Tartar Control Dog Chews',\n",
       " 'Milk-Bone Brushing Chews Dental Dog Treat',\n",
       " 'Authority® Dental & DHA Rings Puppy Treats Parsley Mint - Gluten Free, Grain Free',\n",
       " 'Pedigree Dentastix Large Dog Sticks',\n",
       " 'Greenies Teenie Dog Dental Treats - Blueberry',\n",
       " 'Pedigree Dentastix Triple Action Small Dog Treats - Fresh',\n",
       " 'Milk-Bone Brushing Chew Mini Dental Dog Treats',\n",
       " 'Authority Dental & Multivitamin Large Dog Treats Parsley Mint - Gluten Free, Grain Free',\n",
       " 'Greenies Aging Care Dental Dog Treats, 27 oz',\n",
       " 'Authority® Dental & Multivitamin Medium Dog Treats Parsley Mint - Gluten Free, Grain Free',\n",
       " 'Authority Dental & Multivitamin Small Dog Treats Parsley Mint - Gluten Free, Grain Free',\n",
       " 'Greenies Regular Dog Dental Treats - Blueberry',\n",
       " 'Merrick® Fresh Kisses™ Double-Brush Large Dental Dog Treat - Mint Breath Strips',\n",
       " 'Blue Buffalo Dental Bones Large Dog Treats - Natural',\n",
       " 'WHIMZEES Brushzees Extra Small Dental Dog Treat - Natural, Grain Free',\n",
       " 'Greenies Petite Dental Dog Treats - Blueberry',\n",
       " 'Greenies Grain Free Teenie Dental Dog Treats',\n",
       " 'Pedigree Dentastix Dual Flavor Large Dental Dog Treats',\n",
       " 'Greenies Teenie Dental Dog Treats - Fresh',\n",
       " 'Merrick® Fresh Kisses™ Double-Brush Small Dental Dog Treat - Mint Breath Strips',\n",
       " 'WHIMZEES Brushzees Medium Dental Dog Treat - Natural, Grain Free']"
      ]
     },
     "execution_count": 9,
     "metadata": {},
     "output_type": "execute_result"
    }
   ],
   "source": [
    "name_list = []\n",
    "for box in result_boxes:\n",
    "    name_list.append(box.find('h3').text)\n",
    "name_list"
   ]
  },
  {
   "cell_type": "code",
   "execution_count": 10,
   "metadata": {},
   "outputs": [
    {
     "data": {
      "text/html": [
       "<div>\n",
       "<style scoped>\n",
       "    .dataframe tbody tr th:only-of-type {\n",
       "        vertical-align: middle;\n",
       "    }\n",
       "\n",
       "    .dataframe tbody tr th {\n",
       "        vertical-align: top;\n",
       "    }\n",
       "\n",
       "    .dataframe thead th {\n",
       "        text-align: right;\n",
       "    }\n",
       "</style>\n",
       "<table border=\"1\" class=\"dataframe\">\n",
       "  <thead>\n",
       "    <tr style=\"text-align: right;\">\n",
       "      <th></th>\n",
       "      <th>0</th>\n",
       "    </tr>\n",
       "  </thead>\n",
       "  <tbody>\n",
       "    <tr>\n",
       "      <td>0</td>\n",
       "      <td>Greenies Regular Dental Dog Treats</td>\n",
       "    </tr>\n",
       "    <tr>\n",
       "      <td>1</td>\n",
       "      <td>Greenies Petite Dental Dog Treats</td>\n",
       "    </tr>\n",
       "    <tr>\n",
       "      <td>2</td>\n",
       "      <td>Greenies Large Dental Dog Treats</td>\n",
       "    </tr>\n",
       "    <tr>\n",
       "      <td>3</td>\n",
       "      <td>Pedigree Dentastix Large Dog Treats</td>\n",
       "    </tr>\n",
       "    <tr>\n",
       "      <td>4</td>\n",
       "      <td>Greenies 6 Month+ Puppy Petite Dental Dog Treats</td>\n",
       "    </tr>\n",
       "    <tr>\n",
       "      <td>5</td>\n",
       "      <td>Greenies 6 Month+ Puppy Dental Dog Treats</td>\n",
       "    </tr>\n",
       "    <tr>\n",
       "      <td>6</td>\n",
       "      <td>Greenies 6 Month+ Puppy Teenie Dental Dog Treats</td>\n",
       "    </tr>\n",
       "    <tr>\n",
       "      <td>7</td>\n",
       "      <td>Greenies Teenie Dental Dog Treats</td>\n",
       "    </tr>\n",
       "    <tr>\n",
       "      <td>8</td>\n",
       "      <td>Authority® Dental &amp; DHA Stick Puppy Treats Par...</td>\n",
       "    </tr>\n",
       "    <tr>\n",
       "      <td>9</td>\n",
       "      <td>Pedigree Dentastix Large Dog Sticks</td>\n",
       "    </tr>\n",
       "    <tr>\n",
       "      <td>10</td>\n",
       "      <td>Milk-Bone Brushing Chews Large Dental Dog Treats</td>\n",
       "    </tr>\n",
       "    <tr>\n",
       "      <td>11</td>\n",
       "      <td>Pedigree Dentastix Triple Action Dental Dog Tr...</td>\n",
       "    </tr>\n",
       "    <tr>\n",
       "      <td>12</td>\n",
       "      <td>Pedigree Dentastix Small/Medium Dog Sticks</td>\n",
       "    </tr>\n",
       "    <tr>\n",
       "      <td>13</td>\n",
       "      <td>WHIMZEES Variety Value Box Dental Dog Treat - ...</td>\n",
       "    </tr>\n",
       "    <tr>\n",
       "      <td>14</td>\n",
       "      <td>Pedigree Dentastix Mini Dog Sticks</td>\n",
       "    </tr>\n",
       "    <tr>\n",
       "      <td>15</td>\n",
       "      <td>Virbac® C.E.T.® VeggieDent® Tartar Control Dog...</td>\n",
       "    </tr>\n",
       "    <tr>\n",
       "      <td>16</td>\n",
       "      <td>Milk-Bone Brushing Chews Dental Dog Treat</td>\n",
       "    </tr>\n",
       "    <tr>\n",
       "      <td>17</td>\n",
       "      <td>Authority® Dental &amp; DHA Rings Puppy Treats Par...</td>\n",
       "    </tr>\n",
       "    <tr>\n",
       "      <td>18</td>\n",
       "      <td>Pedigree Dentastix Large Dog Sticks</td>\n",
       "    </tr>\n",
       "    <tr>\n",
       "      <td>19</td>\n",
       "      <td>Greenies Teenie Dog Dental Treats - Blueberry</td>\n",
       "    </tr>\n",
       "    <tr>\n",
       "      <td>20</td>\n",
       "      <td>Pedigree Dentastix Triple Action Small Dog Tre...</td>\n",
       "    </tr>\n",
       "    <tr>\n",
       "      <td>21</td>\n",
       "      <td>Milk-Bone Brushing Chew Mini Dental Dog Treats</td>\n",
       "    </tr>\n",
       "    <tr>\n",
       "      <td>22</td>\n",
       "      <td>Authority Dental &amp; Multivitamin Large Dog Trea...</td>\n",
       "    </tr>\n",
       "    <tr>\n",
       "      <td>23</td>\n",
       "      <td>Greenies Aging Care Dental Dog Treats, 27 oz</td>\n",
       "    </tr>\n",
       "    <tr>\n",
       "      <td>24</td>\n",
       "      <td>Authority® Dental &amp; Multivitamin Medium Dog Tr...</td>\n",
       "    </tr>\n",
       "    <tr>\n",
       "      <td>25</td>\n",
       "      <td>Authority Dental &amp; Multivitamin Small Dog Trea...</td>\n",
       "    </tr>\n",
       "    <tr>\n",
       "      <td>26</td>\n",
       "      <td>Greenies Regular Dog Dental Treats - Blueberry</td>\n",
       "    </tr>\n",
       "    <tr>\n",
       "      <td>27</td>\n",
       "      <td>Merrick® Fresh Kisses™ Double-Brush Large Dent...</td>\n",
       "    </tr>\n",
       "    <tr>\n",
       "      <td>28</td>\n",
       "      <td>Blue Buffalo Dental Bones Large Dog Treats - N...</td>\n",
       "    </tr>\n",
       "    <tr>\n",
       "      <td>29</td>\n",
       "      <td>WHIMZEES Brushzees Extra Small Dental Dog Trea...</td>\n",
       "    </tr>\n",
       "    <tr>\n",
       "      <td>30</td>\n",
       "      <td>Greenies Petite Dental Dog Treats - Blueberry</td>\n",
       "    </tr>\n",
       "    <tr>\n",
       "      <td>31</td>\n",
       "      <td>Greenies Grain Free Teenie Dental Dog Treats</td>\n",
       "    </tr>\n",
       "    <tr>\n",
       "      <td>32</td>\n",
       "      <td>Pedigree Dentastix Dual Flavor Large Dental Do...</td>\n",
       "    </tr>\n",
       "    <tr>\n",
       "      <td>33</td>\n",
       "      <td>Greenies Teenie Dental Dog Treats - Fresh</td>\n",
       "    </tr>\n",
       "    <tr>\n",
       "      <td>34</td>\n",
       "      <td>Merrick® Fresh Kisses™ Double-Brush Small Dent...</td>\n",
       "    </tr>\n",
       "    <tr>\n",
       "      <td>35</td>\n",
       "      <td>WHIMZEES Brushzees Medium Dental Dog Treat - N...</td>\n",
       "    </tr>\n",
       "  </tbody>\n",
       "</table>\n",
       "</div>"
      ],
      "text/plain": [
       "                                                    0\n",
       "0                  Greenies Regular Dental Dog Treats\n",
       "1                   Greenies Petite Dental Dog Treats\n",
       "2                    Greenies Large Dental Dog Treats\n",
       "3                 Pedigree Dentastix Large Dog Treats\n",
       "4    Greenies 6 Month+ Puppy Petite Dental Dog Treats\n",
       "5           Greenies 6 Month+ Puppy Dental Dog Treats\n",
       "6    Greenies 6 Month+ Puppy Teenie Dental Dog Treats\n",
       "7                   Greenies Teenie Dental Dog Treats\n",
       "8   Authority® Dental & DHA Stick Puppy Treats Par...\n",
       "9                 Pedigree Dentastix Large Dog Sticks\n",
       "10   Milk-Bone Brushing Chews Large Dental Dog Treats\n",
       "11  Pedigree Dentastix Triple Action Dental Dog Tr...\n",
       "12         Pedigree Dentastix Small/Medium Dog Sticks\n",
       "13  WHIMZEES Variety Value Box Dental Dog Treat - ...\n",
       "14                 Pedigree Dentastix Mini Dog Sticks\n",
       "15  Virbac® C.E.T.® VeggieDent® Tartar Control Dog...\n",
       "16          Milk-Bone Brushing Chews Dental Dog Treat\n",
       "17  Authority® Dental & DHA Rings Puppy Treats Par...\n",
       "18                Pedigree Dentastix Large Dog Sticks\n",
       "19      Greenies Teenie Dog Dental Treats - Blueberry\n",
       "20  Pedigree Dentastix Triple Action Small Dog Tre...\n",
       "21     Milk-Bone Brushing Chew Mini Dental Dog Treats\n",
       "22  Authority Dental & Multivitamin Large Dog Trea...\n",
       "23       Greenies Aging Care Dental Dog Treats, 27 oz\n",
       "24  Authority® Dental & Multivitamin Medium Dog Tr...\n",
       "25  Authority Dental & Multivitamin Small Dog Trea...\n",
       "26     Greenies Regular Dog Dental Treats - Blueberry\n",
       "27  Merrick® Fresh Kisses™ Double-Brush Large Dent...\n",
       "28  Blue Buffalo Dental Bones Large Dog Treats - N...\n",
       "29  WHIMZEES Brushzees Extra Small Dental Dog Trea...\n",
       "30      Greenies Petite Dental Dog Treats - Blueberry\n",
       "31       Greenies Grain Free Teenie Dental Dog Treats\n",
       "32  Pedigree Dentastix Dual Flavor Large Dental Do...\n",
       "33          Greenies Teenie Dental Dog Treats - Fresh\n",
       "34  Merrick® Fresh Kisses™ Double-Brush Small Dent...\n",
       "35  WHIMZEES Brushzees Medium Dental Dog Treat - N..."
      ]
     },
     "execution_count": 10,
     "metadata": {},
     "output_type": "execute_result"
    }
   ],
   "source": [
    "# load the data into a dataframe file\n",
    "df = pd.DataFrame(name_list)\n",
    "df"
   ]
  },
  {
   "cell_type": "code",
   "execution_count": 11,
   "metadata": {},
   "outputs": [],
   "source": [
    "# save the data as a csv file\n",
    "df.to_csv(\"data/part1.csv\",index=False)"
   ]
  },
  {
   "cell_type": "code",
   "execution_count": 12,
   "metadata": {},
   "outputs": [
    {
     "data": {
      "text/html": [
       "<div>\n",
       "<style scoped>\n",
       "    .dataframe tbody tr th:only-of-type {\n",
       "        vertical-align: middle;\n",
       "    }\n",
       "\n",
       "    .dataframe tbody tr th {\n",
       "        vertical-align: top;\n",
       "    }\n",
       "\n",
       "    .dataframe thead th {\n",
       "        text-align: right;\n",
       "    }\n",
       "</style>\n",
       "<table border=\"1\" class=\"dataframe\">\n",
       "  <thead>\n",
       "    <tr style=\"text-align: right;\">\n",
       "      <th></th>\n",
       "      <th>0</th>\n",
       "    </tr>\n",
       "  </thead>\n",
       "  <tbody>\n",
       "    <tr>\n",
       "      <td>0</td>\n",
       "      <td>Greenies Regular Dental Dog Treats</td>\n",
       "    </tr>\n",
       "    <tr>\n",
       "      <td>1</td>\n",
       "      <td>Greenies Petite Dental Dog Treats</td>\n",
       "    </tr>\n",
       "    <tr>\n",
       "      <td>2</td>\n",
       "      <td>Greenies Large Dental Dog Treats</td>\n",
       "    </tr>\n",
       "    <tr>\n",
       "      <td>3</td>\n",
       "      <td>Pedigree Dentastix Large Dog Treats</td>\n",
       "    </tr>\n",
       "    <tr>\n",
       "      <td>4</td>\n",
       "      <td>Greenies 6 Month+ Puppy Petite Dental Dog Treats</td>\n",
       "    </tr>\n",
       "  </tbody>\n",
       "</table>\n",
       "</div>"
      ],
      "text/plain": [
       "                                                  0\n",
       "0                Greenies Regular Dental Dog Treats\n",
       "1                 Greenies Petite Dental Dog Treats\n",
       "2                  Greenies Large Dental Dog Treats\n",
       "3               Pedigree Dentastix Large Dog Treats\n",
       "4  Greenies 6 Month+ Puppy Petite Dental Dog Treats"
      ]
     },
     "execution_count": 12,
     "metadata": {},
     "output_type": "execute_result"
    }
   ],
   "source": [
    "# display df.head()\n",
    "df.head()"
   ]
  },
  {
   "cell_type": "markdown",
   "metadata": {},
   "source": [
    "# Part 2\n",
    "\n",
    "load in the csv file located in the `data` folder called `part2.csv`\n",
    "\n",
    "create a function that calculates the zscores of an array\n",
    "\n",
    "then calculate the zscores for each column in part2.csv and add them as columns\n",
    "\n",
    "See below for final result\n",
    "\n",
    "<img src=\"solutions/images/part2_df_preview.png\"/>"
   ]
  },
  {
   "cell_type": "code",
   "execution_count": 14,
   "metadata": {},
   "outputs": [
    {
     "data": {
      "text/html": [
       "<div>\n",
       "<style scoped>\n",
       "    .dataframe tbody tr th:only-of-type {\n",
       "        vertical-align: middle;\n",
       "    }\n",
       "\n",
       "    .dataframe tbody tr th {\n",
       "        vertical-align: top;\n",
       "    }\n",
       "\n",
       "    .dataframe thead th {\n",
       "        text-align: right;\n",
       "    }\n",
       "</style>\n",
       "<table border=\"1\" class=\"dataframe\">\n",
       "  <thead>\n",
       "    <tr style=\"text-align: right;\">\n",
       "      <th></th>\n",
       "      <th>salaries</th>\n",
       "      <th>NPS Score</th>\n",
       "      <th>eventOutcome</th>\n",
       "    </tr>\n",
       "  </thead>\n",
       "  <tbody>\n",
       "    <tr>\n",
       "      <td>0</td>\n",
       "      <td>44112.0</td>\n",
       "      <td>-7.0</td>\n",
       "      <td>1</td>\n",
       "    </tr>\n",
       "    <tr>\n",
       "      <td>1</td>\n",
       "      <td>46777.0</td>\n",
       "      <td>-12.0</td>\n",
       "      <td>2</td>\n",
       "    </tr>\n",
       "    <tr>\n",
       "      <td>2</td>\n",
       "      <td>50013.0</td>\n",
       "      <td>50.0</td>\n",
       "      <td>5</td>\n",
       "    </tr>\n",
       "    <tr>\n",
       "      <td>3</td>\n",
       "      <td>48983.0</td>\n",
       "      <td>-13.0</td>\n",
       "      <td>0</td>\n",
       "    </tr>\n",
       "    <tr>\n",
       "      <td>4</td>\n",
       "      <td>50751.0</td>\n",
       "      <td>-11.0</td>\n",
       "      <td>6</td>\n",
       "    </tr>\n",
       "    <tr>\n",
       "      <td>...</td>\n",
       "      <td>...</td>\n",
       "      <td>...</td>\n",
       "      <td>...</td>\n",
       "    </tr>\n",
       "    <tr>\n",
       "      <td>4995</td>\n",
       "      <td>50580.0</td>\n",
       "      <td>62.0</td>\n",
       "      <td>7</td>\n",
       "    </tr>\n",
       "    <tr>\n",
       "      <td>4996</td>\n",
       "      <td>54526.0</td>\n",
       "      <td>10.0</td>\n",
       "      <td>1</td>\n",
       "    </tr>\n",
       "    <tr>\n",
       "      <td>4997</td>\n",
       "      <td>46135.0</td>\n",
       "      <td>-27.0</td>\n",
       "      <td>3</td>\n",
       "    </tr>\n",
       "    <tr>\n",
       "      <td>4998</td>\n",
       "      <td>47223.0</td>\n",
       "      <td>3.0</td>\n",
       "      <td>7</td>\n",
       "    </tr>\n",
       "    <tr>\n",
       "      <td>4999</td>\n",
       "      <td>47913.0</td>\n",
       "      <td>2.0</td>\n",
       "      <td>0</td>\n",
       "    </tr>\n",
       "  </tbody>\n",
       "</table>\n",
       "<p>5000 rows × 3 columns</p>\n",
       "</div>"
      ],
      "text/plain": [
       "      salaries  NPS Score  eventOutcome\n",
       "0      44112.0       -7.0             1\n",
       "1      46777.0      -12.0             2\n",
       "2      50013.0       50.0             5\n",
       "3      48983.0      -13.0             0\n",
       "4      50751.0      -11.0             6\n",
       "...        ...        ...           ...\n",
       "4995   50580.0       62.0             7\n",
       "4996   54526.0       10.0             1\n",
       "4997   46135.0      -27.0             3\n",
       "4998   47223.0        3.0             7\n",
       "4999   47913.0        2.0             0\n",
       "\n",
       "[5000 rows x 3 columns]"
      ]
     },
     "execution_count": 14,
     "metadata": {},
     "output_type": "execute_result"
    }
   ],
   "source": [
    "df2 = pd.read_csv('data/part2.csv')\n",
    "df2"
   ]
  },
  {
   "cell_type": "code",
   "execution_count": 41,
   "metadata": {},
   "outputs": [
    {
     "data": {
      "text/plain": [
       "(array([44112., 46777., 50013., ..., 46135., 47223., 47913.]),\n",
       " array([ -7., -12.,  50., ..., -27.,   3.,   2.]),\n",
       " array([1, 2, 5, ..., 3, 7, 0], dtype=int64))"
      ]
     },
     "execution_count": 41,
     "metadata": {},
     "output_type": "execute_result"
    }
   ],
   "source": [
    "import numpy as np\n",
    "import scipy.stats as scs\n",
    "salaries_array=np.asarray(df2['salaries'])\n",
    "NPS_array=np.asarray(df2['NPS Score'])\n",
    "eventOutcome_array=np.asarray(df2['eventOutcome'])\n",
    "salaries_array, NPS_array, eventOutcome_array"
   ]
  },
  {
   "cell_type": "code",
   "execution_count": 42,
   "metadata": {},
   "outputs": [
    {
     "data": {
      "text/plain": [
       "(array([-1.46030067, -0.7940606 ,  0.01492733, ..., -0.95455821,\n",
       "        -0.68256227, -0.51006484]),\n",
       " array([-0.91361296, -1.08077601,  0.99204586, ..., -1.58226517,\n",
       "        -0.57928685, -0.61271946]),\n",
       " array([-1.10327636, -0.66816185,  0.6371817 , ..., -0.23304733,\n",
       "         1.50741072, -1.53839088]))"
      ]
     },
     "execution_count": 42,
     "metadata": {},
     "output_type": "execute_result"
    }
   ],
   "source": [
    "# calculate the zscore for each column and store them as a new column with the names used above\n",
    "salaries_z = stats.zscore(salaries_array)\n",
    "NPS_z = stats.zscore(NPS_array)\n",
    "eo_z = stats.zscore(eventOutcome_array)\n",
    "salaries_z, NPS_z, eo_z"
   ]
  },
  {
   "cell_type": "code",
   "execution_count": 43,
   "metadata": {},
   "outputs": [
    {
     "data": {
      "text/html": [
       "<div>\n",
       "<style scoped>\n",
       "    .dataframe tbody tr th:only-of-type {\n",
       "        vertical-align: middle;\n",
       "    }\n",
       "\n",
       "    .dataframe tbody tr th {\n",
       "        vertical-align: top;\n",
       "    }\n",
       "\n",
       "    .dataframe thead th {\n",
       "        text-align: right;\n",
       "    }\n",
       "</style>\n",
       "<table border=\"1\" class=\"dataframe\">\n",
       "  <thead>\n",
       "    <tr style=\"text-align: right;\">\n",
       "      <th></th>\n",
       "      <th>salaries</th>\n",
       "      <th>NPS Score</th>\n",
       "      <th>eventOutcome</th>\n",
       "      <th>salaries_zscores</th>\n",
       "      <th>NPS_Score_zscores</th>\n",
       "      <th>eventOutcome_zscores</th>\n",
       "    </tr>\n",
       "  </thead>\n",
       "  <tbody>\n",
       "    <tr>\n",
       "      <td>0</td>\n",
       "      <td>44112.0</td>\n",
       "      <td>-7.0</td>\n",
       "      <td>1</td>\n",
       "      <td>-1.460301</td>\n",
       "      <td>-0.913613</td>\n",
       "      <td>-1.103276</td>\n",
       "    </tr>\n",
       "    <tr>\n",
       "      <td>1</td>\n",
       "      <td>46777.0</td>\n",
       "      <td>-12.0</td>\n",
       "      <td>2</td>\n",
       "      <td>-0.794061</td>\n",
       "      <td>-1.080776</td>\n",
       "      <td>-0.668162</td>\n",
       "    </tr>\n",
       "    <tr>\n",
       "      <td>2</td>\n",
       "      <td>50013.0</td>\n",
       "      <td>50.0</td>\n",
       "      <td>5</td>\n",
       "      <td>0.014927</td>\n",
       "      <td>0.992046</td>\n",
       "      <td>0.637182</td>\n",
       "    </tr>\n",
       "    <tr>\n",
       "      <td>3</td>\n",
       "      <td>48983.0</td>\n",
       "      <td>-13.0</td>\n",
       "      <td>0</td>\n",
       "      <td>-0.242569</td>\n",
       "      <td>-1.114209</td>\n",
       "      <td>-1.538391</td>\n",
       "    </tr>\n",
       "    <tr>\n",
       "      <td>4</td>\n",
       "      <td>50751.0</td>\n",
       "      <td>-11.0</td>\n",
       "      <td>6</td>\n",
       "      <td>0.199425</td>\n",
       "      <td>-1.047343</td>\n",
       "      <td>1.072296</td>\n",
       "    </tr>\n",
       "  </tbody>\n",
       "</table>\n",
       "</div>"
      ],
      "text/plain": [
       "   salaries  NPS Score  eventOutcome  salaries_zscores  NPS_Score_zscores  \\\n",
       "0   44112.0       -7.0             1         -1.460301          -0.913613   \n",
       "1   46777.0      -12.0             2         -0.794061          -1.080776   \n",
       "2   50013.0       50.0             5          0.014927           0.992046   \n",
       "3   48983.0      -13.0             0         -0.242569          -1.114209   \n",
       "4   50751.0      -11.0             6          0.199425          -1.047343   \n",
       "\n",
       "   eventOutcome_zscores  \n",
       "0             -1.103276  \n",
       "1             -0.668162  \n",
       "2              0.637182  \n",
       "3             -1.538391  \n",
       "4              1.072296  "
      ]
     },
     "execution_count": 43,
     "metadata": {},
     "output_type": "execute_result"
    }
   ],
   "source": [
    "df2['salaries_zscores'] = salaries_z\n",
    "df2['NPS_Score_zscores'] = NPS_z\n",
    "df2['eventOutcome_zscores'] = eo_z\n",
    "df2.head()"
   ]
  },
  {
   "cell_type": "markdown",
   "metadata": {},
   "source": [
    "# Part 3 \n",
    "plot 'salaries' and 'NPS Score' on a subplot (1 row 2 columns) \n",
    "then repeat this for the zscores\n",
    "\n",
    "see image below for reference\n",
    "<img src=\"solutions/images/part2-plots.png\"/>"
   ]
  },
  {
   "cell_type": "code",
   "execution_count": 44,
   "metadata": {
    "scrolled": true
   },
   "outputs": [
    {
     "data": {
      "text/plain": [
       "(array([[<matplotlib.axes._subplots.AxesSubplot object at 0x000001E90CA96438>]],\n",
       "       dtype=object), Text(0.5, 0, 'NPS Scores'), Text(0, 0.5, 'Frequency'))"
      ]
     },
     "execution_count": 44,
     "metadata": {},
     "output_type": "execute_result"
    },
    {
     "data": {
      "image/png": "[encoded data removed]",
      "text/plain": [
       "<Figure size 432x288 with 1 Axes>"
      ]
     },
     "metadata": {
      "needs_background": "light"
     },
     "output_type": "display_data"
    },
    {
     "data": {
      "image/png": "[encoded data removed]",
      "text/plain": [
       "<Figure size 432x288 with 1 Axes>"
      ]
     },
     "metadata": {
      "needs_background": "light"
     },
     "output_type": "display_data"
    }
   ],
   "source": [
    "# plot for raw salaries and NPS Score data goes here\n",
    "import seaborn as sns\n",
    "import matplotlib.pyplot as plt\n",
    "%matplotlib inline\n",
    "df2.hist('salaries'), plt.xlabel('salaries'), plt.ylabel('Frequency')\n",
    "df2.hist('NPS Score'), plt.xlabel('NPS Scores'), plt.ylabel('Frequency')"
   ]
  },
  {
   "cell_type": "code",
   "execution_count": 45,
   "metadata": {},
   "outputs": [
    {
     "data": {
      "text/plain": [
       "(array([[<matplotlib.axes._subplots.AxesSubplot object at 0x000001E90DE53630>]],\n",
       "       dtype=object), Text(0.5, 0, 'NPS Scores'), Text(0, 0.5, 'Frequency'))"
      ]
     },
     "execution_count": 45,
     "metadata": {},
     "output_type": "execute_result"
    },
    {
     "data": {
      "image/png": "[encoded data removed]",
      "text/plain": [
       "<Figure size 432x288 with 1 Axes>"
      ]
     },
     "metadata": {
      "needs_background": "light"
     },
     "output_type": "display_data"
    },
    {
     "data": {
      "image/png": "[encoded data removed]",
      "text/plain": [
       "<Figure size 432x288 with 1 Axes>"
      ]
     },
     "metadata": {
      "needs_background": "light"
     },
     "output_type": "display_data"
    }
   ],
   "source": [
    "# plot for zscores for salaries and NPS Score data goes here\n",
    "df2.hist('salaries_zscores'), plt.xlabel('salaries'), plt.ylabel('Frequency')\n",
    "df2.hist('NPS_Score_zscores'), plt.xlabel('NPS Scores'), plt.ylabel('Frequency')"
   ]
  },
  {
   "cell_type": "markdown",
   "metadata": {},
   "source": [
    "# Part 4 - PMF\n",
    "using the column 'eventOutcomes'\n",
    "\n",
    "create a PMF and plot the PMF as a bar chart\n",
    "\n",
    "See image below for referenc\n",
    "\n",
    "<img src=\"solutions/images/part4_pmf.png\"/>"
   ]
  },
  {
   "cell_type": "code",
   "execution_count": 46,
   "metadata": {},
   "outputs": [
    {
     "data": {
      "text/plain": [
       "{1: 608, 2: 592, 5: 591, 0: 624, 6: 622, 4: 666, 3: 636, 7: 661}"
      ]
     },
     "execution_count": 46,
     "metadata": {},
     "output_type": "execute_result"
    }
   ],
   "source": [
    "outcome_count = {}\n",
    "for outcome in eventOutcome_array:\n",
    "    outcome_count[outcome] = outcome_count.get(outcome, 0) + 1\n",
    "outcome_count"
   ]
  },
  {
   "cell_type": "code",
   "execution_count": 47,
   "metadata": {},
   "outputs": [],
   "source": [
    "outcome_count_percents = {}\n",
    "total_count = sum(outcome_count.values())\n",
    "for outcome in outcome_count.keys():\n",
    "    percentage = outcome_count[outcome]/total_count\n",
    "    outcome_count_percents[outcome] = percentage"
   ]
  },
  {
   "cell_type": "code",
   "execution_count": 48,
   "metadata": {},
   "outputs": [
    {
     "data": {
      "text/plain": [
       "{1: 0.1216,\n",
       " 2: 0.1184,\n",
       " 5: 0.1182,\n",
       " 0: 0.1248,\n",
       " 6: 0.1244,\n",
       " 4: 0.1332,\n",
       " 3: 0.1272,\n",
       " 7: 0.1322}"
      ]
     },
     "execution_count": 48,
     "metadata": {},
     "output_type": "execute_result"
    }
   ],
   "source": [
    "outcome_count_percents"
   ]
  },
  {
   "cell_type": "code",
   "execution_count": 49,
   "metadata": {},
   "outputs": [
    {
     "data": {
      "image/png": "[encoded data removed]",
      "text/plain": [
       "<Figure size 432x288 with 1 Axes>"
      ]
     },
     "metadata": {
      "needs_background": "light"
     },
     "output_type": "display_data"
    }
   ],
   "source": [
    "event_outcome = outcome_count_percents.keys()\n",
    "percentages = outcome_count_percents.values()\n",
    "\n",
    "plt.bar(event_outcome, percentages)\n",
    "plt.title(\"Event Outcome PMF\")\n",
    "plt.xlabel('Event Outcome')\n",
    "plt.ylabel('Probability')\n",
    "\n",
    "plt.show()"
   ]
  },
  {
   "cell_type": "markdown",
   "metadata": {},
   "source": [
    "# Part 5 - CDF\n",
    "plot the CDF of Event Outcomes as a scatter plot using the information above\n",
    "\n",
    "See image below for reference \n",
    "\n",
    "<img src=\"solutions/images/part5_cmf.png\"/>"
   ]
  },
  {
   "cell_type": "code",
   "execution_count": 50,
   "metadata": {},
   "outputs": [
    {
     "data": {
      "text/plain": [
       "3.5356"
      ]
     },
     "execution_count": 50,
     "metadata": {},
     "output_type": "execute_result"
    }
   ],
   "source": [
    "eventOutcome_array.mean()"
   ]
  },
  {
   "cell_type": "code",
   "execution_count": 52,
   "metadata": {},
   "outputs": [
    {
     "data": {
      "text/plain": [
       "array([0.30603531, 0.37937602, 0.61519306, ..., 0.45734689, 0.75580757,\n",
       "       0.23974595])"
      ]
     },
     "execution_count": 52,
     "metadata": {},
     "output_type": "execute_result"
    }
   ],
   "source": [
    "x = scs.norm.cdf(eventOutcome_array, 3.5356, 5 )\n",
    "x"
   ]
  },
  {
   "cell_type": "code",
   "execution_count": 53,
   "metadata": {},
   "outputs": [
    {
     "data": {
      "text/plain": [
       "Text(0, 0.5, 'P(E<=N)')"
      ]
     },
     "execution_count": 53,
     "metadata": {},
     "output_type": "execute_result"
    },
    {
     "data": {
      "image/png": "[encoded data removed]",
      "text/plain": [
       "<Figure size 432x288 with 1 Axes>"
      ]
     },
     "metadata": {
      "needs_background": "light"
     },
     "output_type": "display_data"
    }
   ],
   "source": [
    "sns.scatterplot(eventOutcome_array, x)\n",
    "plt.title(\"Cumulative Mass Function for Event Outcome\")\n",
    "plt.xlabel('Event Outcome')\n",
    "plt.ylabel('P(E<=N)')"
   ]
  },
  {
   "cell_type": "markdown",
   "metadata": {},
   "source": [
    "# Bonus:\n",
    "* using np.where find salaries with zscores <= -2.0\n",
    "\n",
    "* calculate the skewness and kurtosis for the NPS Score column"
   ]
  },
  {
   "cell_type": "code",
   "execution_count": 106,
   "metadata": {},
   "outputs": [],
   "source": [
    "# find salaries with zscores <= 2.0 "
   ]
  },
  {
   "cell_type": "code",
   "execution_count": 107,
   "metadata": {},
   "outputs": [],
   "source": [
    "# calculate skewness and kurtosis of NPS Score column"
   ]
  },
  {
   "cell_type": "markdown",
   "metadata": {},
   "source": [
    "# run the cell below to convert your notebook to a README for assessment"
   ]
  },
  {
   "cell_type": "code",
   "execution_count": 54,
   "metadata": {},
   "outputs": [
    {
     "name": "stderr",
     "output_type": "stream",
     "text": [
      "[NbConvertApp] Converting notebook assessment.ipynb to markdown\n",
      "[NbConvertApp] Support files will be in assessment_files\\\n",
      "[NbConvertApp] Making directory assessment_files\n",
      "[NbConvertApp] Making directory assessment_files\n",
      "[NbConvertApp] Making directory assessment_files\n",
      "[NbConvertApp] Making directory assessment_files\n",
      "[NbConvertApp] Making directory assessment_files\n",
      "[NbConvertApp] Making directory assessment_files\n",
      "[NbConvertApp] Writing 20003 bytes to assessment.md\n"
     ]
    }
   ],
   "source": [
    "!jupyter nbconvert --to markdown assessment.ipynb && mv assessment.md README.md"
   ]
  }
 ],
 "metadata": {
  "kernelspec": {
   "display_name": "Python [conda env:learn-env] *",
   "language": "python",
   "name": "conda-env-learn-env-py"
  },
  "language_info": {
   "codemirror_mode": {
    "name": "ipython",
    "version": 3
   },
   "file_extension": ".py",
   "mimetype": "text/x-python",
   "name": "python",
   "nbconvert_exporter": "python",
   "pygments_lexer": "ipython3",
   "version": "3.6.9"
  }
 },
 "nbformat": 4,
 "nbformat_minor": 2
}
